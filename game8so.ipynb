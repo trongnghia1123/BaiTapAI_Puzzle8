{
  "nbformat": 4,
  "nbformat_minor": 0,
  "metadata": {
    "colab": {
      "provenance": []
    },
    "kernelspec": {
      "name": "python3",
      "display_name": "Python 3"
    },
    "language_info": {
      "name": "python"
    }
  },
  "cells": [
    {
      "cell_type": "code",
      "execution_count": 23,
      "metadata": {
        "id": "DkFVU4Y5kfik"
      },
      "outputs": [],
      "source": [
        "import numpy as np"
      ]
    },
    {
      "cell_type": "code",
      "source": [
        "matrix = np.array([[1, 2, 3], [4, 5, 6], [7, 8, 0]])\n",
        "target_matrix_1 = np.array([[1, 2, 3], [8, 0, 4], [7, 6, 5]])\n",
        "target_matrix_2 = np.array([[0, 1, 2], [7, 8, 3], [6, 5, 4]])"
      ],
      "metadata": {
        "id": "mB6m-GsgmHMX"
      },
      "execution_count": 24,
      "outputs": []
    },
    {
      "cell_type": "code",
      "source": [
        "def swap(matrix, num2):\n",
        "    # Tìm vị trí của số 0 trong ma trận\n",
        "    pos_num1 = np.argwhere(matrix == 0)\n",
        "\n",
        "    # Kiểm tra xem số 0 có tồn tại trong ma trận không\n",
        "    if pos_num1.size == 0:\n",
        "        print(\"Số 0 không tồn tại trong ma trận.\")\n",
        "        return matrix\n",
        "\n",
        "    # Tạo một danh sách chứa các vị trí xung quanh số 0\n",
        "    neighbors = [(pos_num1[0][0] + i, pos_num1[0][1] + j) for i in (-1, 0, 1) for j in (-1, 0, 1) if abs(i) != abs(j)]\n",
        "\n",
        "    # Tìm vị trí của số thứ hai trong ma trận\n",
        "    pos_num2 = np.argwhere(matrix == num2)\n",
        "\n",
        "    # Kiểm tra xem số thứ hai có tồn tại trong ma trận và có nằm xung quanh số 0 không\n",
        "    if pos_num2.size == 0 or tuple(pos_num2[0]) not in neighbors:\n",
        "        print(\"Số thứ hai không tồn tại trong ma trận hoặc không nằm xung quanh số 0.\")\n",
        "        return matrix\n",
        "\n",
        "    # Thay đổi vị trí của 2 số\n",
        "    matrix[pos_num1[0][0], pos_num1[0][1]], matrix[pos_num2[0][0], pos_num2[0][1]] = matrix[pos_num2[0][0], pos_num2[0][1]], matrix[pos_num1[0][0], pos_num1[0][1]]\n",
        "\n",
        "    return matrix"
      ],
      "metadata": {
        "id": "7Jtp8BockwLk"
      },
      "execution_count": 25,
      "outputs": []
    },
    {
      "cell_type": "code",
      "source": [
        "print(matrix)\n",
        "while True:\n",
        "    # Nhập từ bàn phím một số để đổi vị trí\n",
        "    num2 = int(input(\"Nhập số thứ hai: \"))\n",
        "\n",
        "    # Gọi hàm swap để thay đổi vị trí của 2 số\n",
        "    matrix = swap(matrix, num2)\n",
        "    print(\"--------\")\n",
        "    print(matrix)\n",
        "\n",
        "    # Kiểm tra xem ma trận có giống với một trong hai ma trận mục tiêu không\n",
        "    if np.array_equal(matrix, target_matrix_1) or np.array_equal(matrix, target_matrix_2):\n",
        "      print(\"!!! BẠN ĐÃ CHIẾN THẮNG !!!\")\n",
        "      break"
      ],
      "metadata": {
        "id": "6MTQohiKmWSA"
      },
      "execution_count": null,
      "outputs": []
    }
  ]
}